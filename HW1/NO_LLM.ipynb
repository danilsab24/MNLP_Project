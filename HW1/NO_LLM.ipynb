{
 "cells": [
  {
   "cell_type": "markdown",
   "metadata": {},
   "source": [
    "## Import Libraries"
   ]
  },
  {
   "cell_type": "code",
   "execution_count": 1,
   "metadata": {},
   "outputs": [],
   "source": [
    "import sys\n",
    "import pandas as pd\n",
    "import seaborn as sn\n",
    "import sklearn as sk\n",
    "import matplotlib as mb\n",
    "from typing import List, Dict\n",
    "from SPARQLWrapper import SPARQLWrapper, JSON"
   ]
  },
  {
   "cell_type": "markdown",
   "metadata": {},
   "source": [
    "## Extract data from Wikidata"
   ]
  },
  {
   "cell_type": "code",
   "execution_count": 2,
   "metadata": {},
   "outputs": [],
   "source": [
    "class WikiDataQueryResults:\n",
    "    \"\"\"\n",
    "    A class that can be used to query data from Wikidata using SPARQL and return the results as a Pandas DataFrame or a list\n",
    "    of values for a specific key.\n",
    "    \"\"\"\n",
    "    def __init__(self, query: str):\n",
    "        \"\"\"\n",
    "        Initializes the WikiDataQueryResults object with a SPARQL query string.\n",
    "        :param query: A SPARQL query string.\n",
    "        \"\"\"\n",
    "        self.user_agent = \"WDQS-example Python/%s.%s\" % (sys.version_info[0], sys.version_info[1])\n",
    "        self.endpoint_url = \"https://query.wikidata.org/sparql\"\n",
    "        self.sparql = SPARQLWrapper(self.endpoint_url, agent=self.user_agent)\n",
    "        self.sparql.setQuery(query)\n",
    "        self.sparql.setReturnFormat(JSON)\n",
    "\n",
    "    def __transform2dicts(self, results: List[Dict]) -> List[Dict]:\n",
    "        \"\"\"\n",
    "        Helper function to transform SPARQL query results into a list of dictionaries.\n",
    "        :param results: A list of query results returned by SPARQLWrapper.\n",
    "        :return: A list of dictionaries, where each dictionary represents a result row and has keys corresponding to the\n",
    "        variables in the SPARQL SELECT clause.\n",
    "        \"\"\"\n",
    "        new_results = []\n",
    "        for result in results:\n",
    "            new_result = {}\n",
    "            for key in result:\n",
    "                new_result[key] = result[key]['value']\n",
    "            new_results.append(new_result)\n",
    "        return new_results\n",
    "\n",
    "    def _load(self) -> List[Dict]:\n",
    "        \"\"\"\n",
    "        Helper function that loads the data from Wikidata using the SPARQLWrapper library, and transforms the results into\n",
    "        a list of dictionaries.\n",
    "        :return: A list of dictionaries, where each dictionary represents a result row and has keys corresponding to the\n",
    "        variables in the SPARQL SELECT clause.\n",
    "        \"\"\"\n",
    "        results = self.sparql.queryAndConvert()['results']['bindings']\n",
    "        results = self.__transform2dicts(results)\n",
    "        return results\n",
    "\n",
    "    def load_as_dataframe(self) -> pd.DataFrame:\n",
    "        \"\"\"\n",
    "        Executes the SPARQL query and returns the results as a Pandas DataFrame.\n",
    "        :return: A Pandas DataFrame representing the query results.\n",
    "        \"\"\"\n",
    "        results = self._load()\n",
    "        return pd.DataFrame.from_dict(results)"
   ]
  },
  {
   "cell_type": "code",
   "execution_count": null,
   "metadata": {},
   "outputs": [
    {
     "name": "stdout",
     "output_type": "stream",
     "text": [
      "                              country countryLabel\n",
      "0  http://www.wikidata.org/entity/Q20       Norway\n",
      "1  http://www.wikidata.org/entity/Q27      Ireland\n",
      "2  http://www.wikidata.org/entity/Q28      Hungary\n",
      "3  http://www.wikidata.org/entity/Q29        Spain\n",
      "4  http://www.wikidata.org/entity/Q31      Belgium\n",
      "5  http://www.wikidata.org/entity/Q32   Luxembourg\n",
      "6  http://www.wikidata.org/entity/Q33      Finland\n",
      "7  http://www.wikidata.org/entity/Q34       Sweden\n",
      "8  http://www.wikidata.org/entity/Q35      Denmark\n",
      "9  http://www.wikidata.org/entity/Q36       Poland\n"
     ]
    }
   ],
   "source": [
    "query = \"\"\"\n",
    "SELECT ?country ?countryLabel WHERE {\n",
    "  ?country wdt:P31 wd:Q6256 .\n",
    "  ?country wdt:P30 wd:Q46 .\n",
    "  SERVICE wikibase:label { bd:serviceParam wikibase:language \"[AUTO_LANGUAGE],en\". }\n",
    "}\n",
    "LIMIT 10\n",
    "\"\"\"\n",
    "\n",
    "wd_query = WikiDataQueryResults(query)\n",
    "df = wd_query.load_as_dataframe()\n",
    "print(df)\n"
   ]
  }
 ],
 "metadata": {
  "kernelspec": {
   "display_name": ".venv",
   "language": "python",
   "name": "python3"
  },
  "language_info": {
   "codemirror_mode": {
    "name": "ipython",
    "version": 3
   },
   "file_extension": ".py",
   "mimetype": "text/x-python",
   "name": "python",
   "nbconvert_exporter": "python",
   "pygments_lexer": "ipython3",
   "version": "3.9.13"
  }
 },
 "nbformat": 4,
 "nbformat_minor": 2
}
